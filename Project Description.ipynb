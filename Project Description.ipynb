{
 "cells": [
  {
   "cell_type": "markdown",
   "metadata": {},
   "source": [
    "# Analyzing Netflix Data\n",
    "\n",
    "### Project Description\n",
    "Apply the foundational Python skills you learned in Introduction to Python and Intermediate Python by manipulating and visualizing movie and TV data.<br>\n",
    "Based on DataCamp project <https://learn.datacamp.com/projects/entertainment-data>  \"Analyzing Netflix Data\"\n",
    "\n",
    "### Topics\n",
    "<ul>\n",
    "<li>Data Manipulation</li>\n",
    "<li>Data Visualization</li>\n",
    "<li>Programming</li>\n",
    "</ul>"
   ]
  },
  {
   "cell_type": "markdown",
   "metadata": {},
   "source": [
    "### Project Tasks\n",
    "<ol>\n",
    "<li> Loading customer's data into a dictionary </li>\n",
    "<li> Creating a DataFrame from a dictionary </li>\n",
    "<li> A visual inspection of our data </li>\n",
    "<li> Loading the rest of the data from a CSV </li>\n",
    "<li> Filtering for movies! </li>\n",
    "<li> Creating a scatter plot </li>\n",
    "<li> Digging deeper </li>\n",
    "<li> Marking non-feature films </li>\n",
    "<li> Plotting with color! </li>\n",
    "</ol>"
   ]
  }
 ],
 "metadata": {
  "kernelspec": {
   "display_name": "Python 3",
   "language": "python",
   "name": "python3"
  },
  "language_info": {
   "codemirror_mode": {
    "name": "ipython",
    "version": 3
   },
   "file_extension": ".py",
   "mimetype": "text/x-python",
   "name": "python",
   "nbconvert_exporter": "python",
   "pygments_lexer": "ipython3",
   "version": "3.8.5"
  }
 },
 "nbformat": 4,
 "nbformat_minor": 4
}
